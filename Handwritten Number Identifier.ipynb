{
 "cells": [
  {
   "cell_type": "code",
   "execution_count": 78,
   "id": "9b87f5f5-30cf-4aab-9040-bbd3ae88e83b",
   "metadata": {},
   "outputs": [],
   "source": [
    "import numpy as np\n",
    "import pandas as pd\n",
    "from sklearn.datasets import fetch_openml\n",
    "from sklearn.preprocessing import MinMaxScaler\n",
    "from sklearn.pipeline import Pipeline\n",
    "from sklearn.dummy import DummyClassifier\n",
    "from sklearn.linear_model import Perceptron\n",
    "from sklearn.metrics import hinge_loss\n",
    "from sklearn.metrics import ConfusionMatrixDisplay, confusion_matrix, precision_recall_curve\n",
    "from sklearn.metrics import make_scorer\n",
    "from sklearn.model_selection import cross_validate, cross_val_predict, GridSearchCV\n",
    "from pprint import pprint\n",
    "import matplotlib as mpl\n",
    "import matplotlib.pyplot as plt\n",
    "from sklearn.decomposition import PCA\n",
    "import seaborn as sns\n",
    "from sklearn.metrics import classification_report, ConfusionMatrixDisplay"
   ]
  },
  {
   "cell_type": "code",
   "execution_count": 2,
   "id": "da05e8f2-c3d5-41c5-9056-914d2a5b4173",
   "metadata": {},
   "outputs": [],
   "source": [
    "np.random.seed(42)"
   ]
  },
  {
   "cell_type": "code",
   "execution_count": 5,
   "id": "ed47c85d-6637-4f18-8da5-3607a13365d8",
   "metadata": {},
   "outputs": [],
   "source": [
    "X,y = fetch_openml('mnist_784', version = 1, return_X_y = True)"
   ]
  },
  {
   "cell_type": "code",
   "execution_count": 6,
   "id": "f0812b25",
   "metadata": {},
   "outputs": [],
   "source": [
    "X = X.to_numpy()\n",
    "y = y.to_numpy()"
   ]
  },
  {
   "cell_type": "code",
   "execution_count": 30,
   "id": "80c308ff",
   "metadata": {},
   "outputs": [
    {
     "name": "stdout",
     "output_type": "stream",
     "text": [
      "Number of Samples: 70000, type: float64\n",
      "Number of features: 784\n",
      "MinimumL0.0, Maximum:255.0\n",
      "Number of classes: 10, typeobject\n",
      "labels: ['0' '1' '2' '3' '4' '5' '6' '7' '8' '9']\n"
     ]
    }
   ],
   "source": [
    "target_names = np.unique(y)\n",
    "print('Number of Samples: {0}, type: {1}'.format(X.shape[0],X.dtype))\n",
    "print('Number of features: {0}'.format(X.shape[1]))\n",
    "print('MinimumL{0}, Maximum:{1}'.format(np.min(X),np.max(X)))\n",
    "print('Number of classes: {0}, type{1}'.format(len(target_names),y.dtype))\n",
    "print(\"labels: {0}\".format(target_names))"
   ]
  },
  {
   "cell_type": "code",
   "execution_count": 31,
   "id": "4d49590b",
   "metadata": {},
   "outputs": [],
   "source": [
    "X = MinMaxScaler().fit_transform(X)"
   ]
  },
  {
   "cell_type": "code",
   "execution_count": null,
   "id": "9b49ee94",
   "metadata": {},
   "outputs": [],
   "source": []
  },
  {
   "cell_type": "code",
   "execution_count": 32,
   "id": "c22bc18b",
   "metadata": {},
   "outputs": [
    {
     "data": {
      "image/png": "[encoded data removed]",
      "text/plain": [
       "<Figure size 576x432 with 9 Axes>"
      ]
     },
     "metadata": {
      "needs_background": "light"
     },
     "output_type": "display_data"
    }
   ],
   "source": [
    "num_images = 9\n",
    "factor = 3\n",
    "fig,ax = plt.subplots(nrows = factor, ncols = factor, figsize = (8,6))\n",
    "idx_offset = 0\n",
    "for i in range(factor):\n",
    "    index = idx_offset+ i *(factor)\n",
    "    for j in range(factor):\n",
    "        ax[i,j].imshow(X[index+j].reshape(28,28), cmap = 'gray')\n",
    "        ax[i,j].set_title('Label:{0}'.format(str(y[index+j])))\n",
    "        ax[i,j].set_axis_off()"
   ]
  },
  {
   "cell_type": "code",
   "execution_count": 33,
   "id": "3cfbf342",
   "metadata": {},
   "outputs": [
    {
     "data": {
      "image/png": "[encoded data removed]",
      "text/plain": [
       "<Figure size 432x432 with 1 Axes>"
      ]
     },
     "metadata": {
      "needs_background": "light"
     },
     "output_type": "display_data"
    }
   ],
   "source": [
    "plt.figure(figsize=(6,6))\n",
    "plt.imshow(X[0].reshape(28,28),cmap='gray')\n",
    "plt.show()"
   ]
  },
  {
   "cell_type": "code",
   "execution_count": 34,
   "id": "89c059ee",
   "metadata": {},
   "outputs": [],
   "source": [
    "X_train, X_test, y_train, y_test = X[:60000],X[60000:],y[:60000],y[60000:]"
   ]
  },
  {
   "cell_type": "code",
   "execution_count": 35,
   "id": "ba2c3032",
   "metadata": {},
   "outputs": [
    {
     "data": {
      "text/plain": [
       "<AxesSubplot:ylabel='Count'>"
      ]
     },
     "execution_count": 35,
     "metadata": {},
     "output_type": "execute_result"
    },
    {
     "data": {
      "image/png": "[encoded data removed]",
      "text/plain": [
       "<Figure size 432x288 with 1 Axes>"
      ]
     },
     "metadata": {
      "needs_background": "light"
     },
     "output_type": "display_data"
    }
   ],
   "source": [
    "sns.histplot(data=np.int8(y_train),binwidth=0.45,bins=11)\n"
   ]
  },
  {
   "cell_type": "markdown",
   "id": "98afb4fa",
   "metadata": {},
   "source": [
    "# Binary Classification : 0-Detector"
   ]
  },
  {
   "cell_type": "code",
   "execution_count": 36,
   "id": "b6cff94b",
   "metadata": {},
   "outputs": [],
   "source": [
    "# intialize new variable names with all -1\n",
    "y_train_0 = -1*np.ones((len(y_train)))\n",
    "y_test_0 = -1*np.ones((len(y_test)))\n",
    "# find indices of digit 0 image\n",
    "indx_0 = np.where(y_train =='0') # remember original labels are of type str not int\n",
    "# use those indices to modify y_train_0&y_test_0\n",
    "y_train_0[indx_0] = 1\n",
    "indx_0 = np.where(y_test == '0')\n",
    "y_test_0[indx_0] = 1\n"
   ]
  },
  {
   "cell_type": "markdown",
   "id": "92a5792f",
   "metadata": {},
   "source": [
    "### Sanity check"
   ]
  },
  {
   "cell_type": "code",
   "execution_count": 37,
   "id": "09093a23",
   "metadata": {},
   "outputs": [
    {
     "name": "stdout",
     "output_type": "stream",
     "text": [
      "['5' '0' '4' ... '5' '6' '8']\n",
      "[-1.  1. -1. ... -1. -1. -1.]\n"
     ]
    }
   ],
   "source": [
    "print(y_train) \n",
    "print(y_train_0)"
   ]
  },
  {
   "cell_type": "code",
   "execution_count": 38,
   "id": "565a4218",
   "metadata": {},
   "outputs": [
    {
     "name": "stdout",
     "output_type": "stream",
     "text": [
      "(array([    1,    21,    34, ..., 59952, 59972, 59987], dtype=int64),)\n",
      "(array([    1,    21,    34, ..., 59952, 59972, 59987], dtype=int64),)\n"
     ]
    }
   ],
   "source": [
    "print(np.where(y_train=='0')) # index of label 0's in original vector y\n",
    "print(np.where(y_train_0 == 1)) # index of pos class in new vector"
   ]
  },
  {
   "cell_type": "code",
   "execution_count": 39,
   "id": "df008db4",
   "metadata": {},
   "outputs": [
    {
     "name": "stderr",
     "output_type": "stream",
     "text": [
      "<ipython-input-39-bdca264d6053>:2: DeprecationWarning: `np.int` is a deprecated alias for the builtin `int`. To silence this warning, use `int` by itself. Doing this will not modify any behavior and is safe. When replacing `np.int`, you may wish to use e.g. `np.int64` or `np.int32` to specify the precision. If you wish to review your current use, check the release note link for additional information.\n",
      "Deprecated in NumPy 1.20; for more details and guidance: https://numpy.org/devdocs/release/1.20.0-notes.html#deprecations\n",
      "  factor = np.int(np.sqrt(num_images))\n"
     ]
    },
    {
     "data": {
      "image/png": "[encoded data removed]",
      "text/plain": [
       "<Figure size 576x432 with 9 Axes>"
      ]
     },
     "metadata": {
      "needs_background": "light"
     },
     "output_type": "display_data"
    }
   ],
   "source": [
    "num_images = 9 # Choose a square number\n",
    "factor = np.int(np.sqrt(num_images))\n",
    "fig,ax = plt.subplots(nrows=factor,ncols=factor,figsize=(8,6))\n",
    "idx_offset = 0 # take \"num_images\" starting from the index \"idx_offset\"\n",
    "for i in range(factor):\n",
    "    index = idx_offset+i*(factor)\n",
    "    for j in range(factor):\n",
    "        ax[i,j].imshow(X[index+j].reshape(28,28),cmap='gray')\n",
    "        ax[i,j].set_title('Label:{0}'.format(str(y_train_0[index+j])))\n",
    "        ax[i,j].set_axis_off()\n"
   ]
  },
  {
   "cell_type": "code",
   "execution_count": null,
   "id": "dc8d1a79",
   "metadata": {},
   "outputs": [],
   "source": []
  },
  {
   "cell_type": "markdown",
   "id": "2aa4d526",
   "metadata": {},
   "source": [
    "### Basline Models"
   ]
  },
  {
   "cell_type": "code",
   "execution_count": 40,
   "id": "131cdff3",
   "metadata": {},
   "outputs": [
    {
     "name": "stdout",
     "output_type": "stream",
     "text": [
      "5923 54077\n"
     ]
    }
   ],
   "source": [
    "num_pos = len(np.where(y_train_0==1)[0])\n",
    "num_neg = len(np.where(y_train_0==-1)[0])\n",
    "print(num_pos,num_neg)\n"
   ]
  },
  {
   "cell_type": "code",
   "execution_count": 42,
   "id": "abb735c4",
   "metadata": {},
   "outputs": [
    {
     "name": "stdout",
     "output_type": "stream",
     "text": [
      "Training accuracy:0.90\n",
      "Testing accuracy:0.90\n"
     ]
    }
   ],
   "source": [
    "base_clf = DummyClassifier(strategy='most_frequent') # there are other strategies\n",
    "base_clf.fit(X_train,y_train_0)\n",
    "print('Training accuracy:{0:.2f}'.format(base_clf.score(X_train,y_train_0)))\n",
    "print('Testing accuracy:{0:.2f}'.format(base_clf.score(X_test,y_test_0)))"
   ]
  },
  {
   "cell_type": "markdown",
   "id": "2868efee",
   "metadata": {},
   "source": [
    "### Perceptron model\n"
   ]
  },
  {
   "cell_type": "code",
   "execution_count": 43,
   "id": "ac582737",
   "metadata": {},
   "outputs": [],
   "source": [
    "bin_clf = Perceptron(max_iter=100,random_state=1729)\n",
    "\n"
   ]
  },
  {
   "cell_type": "code",
   "execution_count": 46,
   "id": "d600f1cb",
   "metadata": {},
   "outputs": [
    {
     "name": "stdout",
     "output_type": "stream",
     "text": [
      "Dimention of Weights w: (1, 784)\n",
      "Bias :[-108.]\n",
      "The loss function: <sklearn.linear_model._sgd_fast.Hinge object at 0x000001B69D7B1AF0>\n"
     ]
    }
   ],
   "source": [
    "bin_clf.fit(X_train,y_train_0)\n",
    "print('Dimention of Weights w: {0}'.format(bin_clf.coef_.shape))\n",
    "print('Bias :{0}'.format(bin_clf.intercept_))\n",
    "print('The loss function: {0}'.format(bin_clf.loss_function_))"
   ]
  },
  {
   "cell_type": "code",
   "execution_count": 49,
   "id": "4c27f011",
   "metadata": {},
   "outputs": [
    {
     "name": "stdout",
     "output_type": "stream",
     "text": [
      "Training Accuracy:  0.99095\n"
     ]
    }
   ],
   "source": [
    "y_hat_train_0 = bin_clf.predict(X_train)\n",
    "print('Training Accuracy: ',bin_clf.score(X_train,y_train_0))"
   ]
  },
  {
   "cell_type": "code",
   "execution_count": 51,
   "id": "28113f16",
   "metadata": {},
   "outputs": [
    {
     "name": "stdout",
     "output_type": "stream",
     "text": [
      "Test accuracy:  0.989\n"
     ]
    }
   ],
   "source": [
    "print('Test accuracy: ',bin_clf.score(X_test,y_test_0))"
   ]
  },
  {
   "cell_type": "markdown",
   "id": "b7f76717",
   "metadata": {},
   "source": [
    "### Displaying predictions\n"
   ]
  },
  {
   "cell_type": "code",
   "execution_count": 55,
   "id": "316bf0ba",
   "metadata": {},
   "outputs": [
    {
     "name": "stderr",
     "output_type": "stream",
     "text": [
      "<ipython-input-55-5c7120be0a53>:3: DeprecationWarning: `np.int` is a deprecated alias for the builtin `int`. To silence this warning, use `int` by itself. Doing this will not modify any behavior and is safe. When replacing `np.int`, you may wish to use e.g. `np.int64` or `np.int32` to specify the precision. If you wish to review your current use, check the release note link for additional information.\n",
      "Deprecated in NumPy 1.20; for more details and guidance: https://numpy.org/devdocs/release/1.20.0-notes.html#deprecations\n",
      "  factor = np.int(np.sqrt(num_images))\n"
     ]
    },
    {
     "data": {
      "image/png": "[encoded data removed]",
      "text/plain": [
       "<Figure size 576x432 with 9 Axes>"
      ]
     },
     "metadata": {
      "needs_background": "light"
     },
     "output_type": "display_data"
    }
   ],
   "source": [
    "y_hat_test_0 = bin_clf.predict(X_test)\n",
    "num_images = 9 # Choose a square number\n",
    "factor = np.int(np.sqrt(num_images))\n",
    "fig,ax = plt.subplots(nrows=factor,ncols=factor,figsize=(8,6))\n",
    "idx_offset = 0 # display \"num_images\" starting from idx_offset\n",
    "for i in range(factor):\n",
    "    index = idx_offset+i*(factor)\n",
    "    for j in range(factor):\n",
    "        ax[i,j].imshow(X_test[index+j].reshape(28,28),cmap='gray') # we should not use x_train\n",
    "        ax[i,j].set_title('Prediction:{0}'.format(str(y_hat_test_0[index+j])))\n",
    "        ax[i,j].set_axis_off()"
   ]
  },
  {
   "cell_type": "markdown",
   "id": "d0c98783",
   "metadata": {},
   "source": []
  },
  {
   "cell_type": "code",
   "execution_count": null,
   "id": "c4e8e3b5",
   "metadata": {},
   "outputs": [],
   "source": []
  },
  {
   "cell_type": "markdown",
   "id": "19e7de09",
   "metadata": {},
   "source": [
    "## Multiclass Classifier"
   ]
  },
  {
   "cell_type": "code",
   "execution_count": null,
   "id": "a398b707",
   "metadata": {},
   "outputs": [],
   "source": []
  },
  {
   "cell_type": "code",
   "execution_count": 63,
   "id": "b0e62151",
   "metadata": {},
   "outputs": [
    {
     "name": "stdout",
     "output_type": "stream",
     "text": [
      "5:[0 0 0 0 0 1 0 0 0 0]\n",
      "0:[1 0 0 0 0 0 0 0 0 0]\n",
      "4:[0 0 0 0 1 0 0 0 0 0]\n",
      "1:[0 1 0 0 0 0 0 0 0 0]\n",
      "9:[0 0 0 0 0 0 0 0 0 1]\n",
      "2:[0 0 1 0 0 0 0 0 0 0]\n",
      "1:[0 1 0 0 0 0 0 0 0 0]\n",
      "3:[0 0 0 1 0 0 0 0 0 0]\n",
      "1:[0 1 0 0 0 0 0 0 0 0]\n",
      "4:[0 0 0 0 1 0 0 0 0 0]\n"
     ]
    }
   ],
   "source": [
    "from sklearn.linear_model import Perceptron\n",
    "from sklearn.preprocessing import LabelBinarizer\n",
    "clf = Perceptron(random_state=1729)\n",
    "# let's use label binarizer just to see the encoding\n",
    "y_train_ovr = LabelBinarizer().fit_transform(y_train) # setting sparse_output=True in Labe\n",
    "for i in range(10):\n",
    "    print('{0}:{1}'.format(y_train[i],y_train_ovr[i]))"
   ]
  },
  {
   "cell_type": "code",
   "execution_count": 65,
   "id": "c9bb4a17",
   "metadata": {},
   "outputs": [
    {
     "data": {
      "text/plain": [
       "Perceptron(random_state=1729)"
      ]
     },
     "execution_count": 65,
     "metadata": {},
     "output_type": "execute_result"
    }
   ],
   "source": [
    "clf.fit(X_train,y_train)"
   ]
  },
  {
   "cell_type": "code",
   "execution_count": 67,
   "id": "039c2eda",
   "metadata": {},
   "outputs": [
    {
     "name": "stdout",
     "output_type": "stream",
     "text": [
      "[[-631.88492118  154.366213    -65.23234141  -90.95338716 -189.29568627\n",
      "  -137.14385236  -99.64604383 -159.09859285 -136.86391388 -199.26120723]]\n",
      "The predicted class:  1\n"
     ]
    }
   ],
   "source": [
    "scores = clf.decision_function(X_train[6].reshape(1,-1))\n",
    "print(scores)\n",
    "print('The predicted class: ',np.argmax(scores))"
   ]
  },
  {
   "cell_type": "code",
   "execution_count": 69,
   "id": "6b556156",
   "metadata": {},
   "outputs": [
    {
     "name": "stdout",
     "output_type": "stream",
     "text": [
      "Preicted output:\n",
      "\n",
      "['5']\n"
     ]
    }
   ],
   "source": [
    "print('Preicted output:\\n')\n",
    "print(clf.predict(X_train[0].reshape(1,-1)))"
   ]
  },
  {
   "cell_type": "code",
   "execution_count": 82,
   "id": "4d184e3f",
   "metadata": {},
   "outputs": [
    {
     "name": "stdout",
     "output_type": "stream",
     "text": [
      "              precision    recall  f1-score   support\n",
      "\n",
      "           0       0.98      0.95      0.97      5923\n",
      "           1       0.94      0.98      0.96      6742\n",
      "           2       0.89      0.90      0.90      5958\n",
      "           3       0.86      0.87      0.87      6131\n",
      "           4       0.89      0.94      0.91      5842\n",
      "           5       0.81      0.88      0.85      5421\n",
      "           6       0.92      0.97      0.94      5918\n",
      "           7       0.91      0.94      0.92      6265\n",
      "           8       0.92      0.77      0.84      5851\n",
      "           9       0.92      0.82      0.87      5949\n",
      "\n",
      "    accuracy                           0.90     60000\n",
      "   macro avg       0.90      0.90      0.90     60000\n",
      "weighted avg       0.91      0.90      0.90     60000\n",
      "\n"
     ]
    }
   ],
   "source": [
    "y_hat = clf.predict(X_train)\n",
    "print(classification_report(y_train,y_hat))\n"
   ]
  },
  {
   "cell_type": "code",
   "execution_count": 85,
   "id": "aeda3bd2",
   "metadata": {},
   "outputs": [
    {
     "data": {
      "text/plain": [
       "0.9041333333333333"
      ]
     },
     "execution_count": 85,
     "metadata": {},
     "output_type": "execute_result"
    }
   ],
   "source": [
    "clf.score(X_train,y_train)"
   ]
  },
  {
   "cell_type": "code",
   "execution_count": null,
   "id": "c81e0e13",
   "metadata": {},
   "outputs": [],
   "source": []
  }
 ],
 "metadata": {
  "kernelspec": {
   "display_name": "Python 3",
   "language": "python",
   "name": "python3"
  },
  "language_info": {
   "codemirror_mode": {
    "name": "ipython",
    "version": 3
   },
   "file_extension": ".py",
   "mimetype": "text/x-python",
   "name": "python",
   "nbconvert_exporter": "python",
   "pygments_lexer": "ipython3",
   "version": "3.8.8"
  }
 },
 "nbformat": 4,
 "nbformat_minor": 5
}
